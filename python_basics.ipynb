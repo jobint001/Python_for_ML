{
 "cells": [
  {
   "cell_type": "markdown",
   "id": "6670f5c9-7472-40a8-8bd2-61ede1e90e0b",
   "metadata": {},
   "source": [
    "# BASICS OF `PYTHON` PROGRAMMING\n",
    "\n",
    " In this notebook we will explain basic ``Python`` for machine learning."
   ]
  },
  {
   "cell_type": "markdown",
   "id": "aab647e8-5036-45a7-bc3d-ca2ec35886e0",
   "metadata": {},
   "source": [
    "## Derived data types in `python`"
   ]
  },
  {
   "cell_type": "markdown",
   "id": "89c8d590-2318-46f5-bfbf-8a092a0eb4e8",
   "metadata": {},
   "source": [
    "> **NOTE:** In python `int`, `float`, `str` are atomic data types and no declaration is required. \n"
   ]
  },
  {
   "cell_type": "code",
   "execution_count": 1,
   "id": "1d994d4f-d2c2-4133-b3c7-8eaf61b55077",
   "metadata": {},
   "outputs": [],
   "source": [
    "my_list=[1,2,3]"
   ]
  },
  {
   "cell_type": "code",
   "execution_count": 2,
   "id": "badf7f1a-da95-41d6-95b0-20c94aaaaf74",
   "metadata": {},
   "outputs": [
    {
     "name": "stdout",
     "output_type": "stream",
     "text": [
      "[1, 2, 3]\n"
     ]
    }
   ],
   "source": [
    "print(my_list)"
   ]
  },
  {
   "cell_type": "code",
   "execution_count": 3,
   "id": "64705a9b-d92e-4572-bc25-b13de8b3cf33",
   "metadata": {},
   "outputs": [],
   "source": [
    "my_list.append(\"helo\")\n"
   ]
  },
  {
   "cell_type": "code",
   "execution_count": 4,
   "id": "7ed6c9d2-6ee1-4a86-a5ef-71512324b320",
   "metadata": {},
   "outputs": [
    {
     "data": {
      "text/plain": [
       "[1, 2, 3, 'helo']"
      ]
     },
     "execution_count": 4,
     "metadata": {},
     "output_type": "execute_result"
    }
   ],
   "source": [
    "my_list"
   ]
  },
  {
   "cell_type": "code",
   "execution_count": 5,
   "id": "505a72a8-8dec-4196-a065-865f0c97a259",
   "metadata": {},
   "outputs": [
    {
     "data": {
      "text/plain": [
       "[1]"
      ]
     },
     "execution_count": 5,
     "metadata": {},
     "output_type": "execute_result"
    }
   ],
   "source": [
    "my_list[:1]"
   ]
  },
  {
   "cell_type": "code",
   "execution_count": 7,
   "id": "15de106b-dabb-4a34-b871-7e850e99e45f",
   "metadata": {},
   "outputs": [],
   "source": [
    "my_list[0]=\"hai\""
   ]
  },
  {
   "cell_type": "code",
   "execution_count": 8,
   "id": "27d65175-b771-499e-888d-ebd494009af0",
   "metadata": {},
   "outputs": [
    {
     "data": {
      "text/plain": [
       "['hai', 2, 3, 'helo']"
      ]
     },
     "execution_count": 8,
     "metadata": {},
     "output_type": "execute_result"
    }
   ],
   "source": [
    "my_list"
   ]
  },
  {
   "cell_type": "code",
   "execution_count": 9,
   "id": "79e70875-f639-4763-aace-c9a0328f5ed4",
   "metadata": {},
   "outputs": [],
   "source": [
    "t=(2,5,3)\n"
   ]
  },
  {
   "cell_type": "code",
   "execution_count": 10,
   "id": "9098dcc4-4bb6-4d01-a9c4-5bfd93fc6d9c",
   "metadata": {},
   "outputs": [],
   "source": [
    "d={'name':'john','score':32}"
   ]
  },
  {
   "cell_type": "code",
   "execution_count": 11,
   "id": "8e753243-b566-4f16-8370-1758f18da2bd",
   "metadata": {},
   "outputs": [
    {
     "data": {
      "text/plain": [
       "{'name': 'john', 'score': 32}"
      ]
     },
     "execution_count": 11,
     "metadata": {},
     "output_type": "execute_result"
    }
   ],
   "source": [
    "d"
   ]
  },
  {
   "cell_type": "code",
   "execution_count": 12,
   "id": "fb538095-404a-4e36-b0a8-2d9018965e34",
   "metadata": {},
   "outputs": [
    {
     "data": {
      "text/plain": [
       "32"
      ]
     },
     "execution_count": 12,
     "metadata": {},
     "output_type": "execute_result"
    }
   ],
   "source": [
    "d['score']"
   ]
  },
  {
   "cell_type": "code",
   "execution_count": 15,
   "id": "9b0aea3f-9202-4d6f-a292-80bcbe0eb0d5",
   "metadata": {},
   "outputs": [],
   "source": [
    "s={1,2,2,5}"
   ]
  },
  {
   "cell_type": "code",
   "execution_count": 16,
   "id": "5423ed2c-911e-49ad-b9c5-419025befaf6",
   "metadata": {},
   "outputs": [
    {
     "data": {
      "text/plain": [
       "{1, 2, 5}"
      ]
     },
     "execution_count": 16,
     "metadata": {},
     "output_type": "execute_result"
    }
   ],
   "source": [
    "s"
   ]
  },
  {
   "cell_type": "code",
   "execution_count": 17,
   "id": "24eb43ba-83de-4b39-91e1-d9f559538bf7",
   "metadata": {},
   "outputs": [],
   "source": [
    "def times2(var):\n",
    "    return var*2"
   ]
  },
  {
   "cell_type": "code",
   "execution_count": 19,
   "id": "7520de90-8994-40c7-98bf-8a72ccfb2120",
   "metadata": {},
   "outputs": [
    {
     "data": {
      "text/plain": [
       "10"
      ]
     },
     "execution_count": 19,
     "metadata": {},
     "output_type": "execute_result"
    }
   ],
   "source": [
    "times2(5)"
   ]
  },
  {
   "cell_type": "code",
   "execution_count": 20,
   "id": "c3fc2a1c-d8ee-49ad-95d1-4d33358a4959",
   "metadata": {},
   "outputs": [],
   "source": [
    "times2= lambda var:var*2"
   ]
  },
  {
   "cell_type": "code",
   "execution_count": 21,
   "id": "89624fd5-001e-4221-98ef-28943b214dba",
   "metadata": {},
   "outputs": [
    {
     "data": {
      "text/plain": [
       "6"
      ]
     },
     "execution_count": 21,
     "metadata": {},
     "output_type": "execute_result"
    }
   ],
   "source": [
    "times2(3)"
   ]
  },
  {
   "cell_type": "markdown",
   "id": "a1dcd805-0b81-432e-a6d7-db07d49f86d8",
   "metadata": {},
   "source": [
    "## List comprehension\n"
   ]
  },
  {
   "cell_type": "code",
   "execution_count": 22,
   "id": "1d4d0c72-89e6-437f-a877-0142fff4f453",
   "metadata": {},
   "outputs": [],
   "source": [
    "s=[1,2,3,4]\n"
   ]
  },
  {
   "cell_type": "code",
   "execution_count": 23,
   "id": "b682d121-0941-4f5d-ba77-94e2e0fa8616",
   "metadata": {},
   "outputs": [],
   "source": [
    "out=[item**2 for item in s]"
   ]
  },
  {
   "cell_type": "code",
   "execution_count": 24,
   "id": "425c164e-9c7c-4b1a-9dd4-5a9bcfbea20d",
   "metadata": {},
   "outputs": [
    {
     "data": {
      "text/plain": [
       "[1, 4, 9, 16]"
      ]
     },
     "execution_count": 24,
     "metadata": {},
     "output_type": "execute_result"
    }
   ],
   "source": [
    "out"
   ]
  },
  {
   "cell_type": "code",
   "execution_count": 25,
   "id": "c57c31f4-072a-4bad-8f11-245bcf7f851f",
   "metadata": {},
   "outputs": [
    {
     "name": "stdout",
     "output_type": "stream",
     "text": [
      "My number is 23 and my name is sam\n"
     ]
    }
   ],
   "source": [
    "print(\"My number is {one} and my name is {name}\".format(one=23,name=\"sam\"))"
   ]
  },
  {
   "cell_type": "code",
   "execution_count": 26,
   "id": "25645ccd-43fa-4c70-9020-76dbd122c62c",
   "metadata": {},
   "outputs": [
    {
     "name": "stdout",
     "output_type": "stream",
     "text": [
      "My number is sam and my name is 23\n"
     ]
    }
   ],
   "source": [
    "print(\"My number is {1} and my name is {0}\".format(23,\"sam\"))"
   ]
  },
  {
   "cell_type": "code",
   "execution_count": null,
   "id": "d6ee01dc-6156-4b82-914d-7f98180b5089",
   "metadata": {},
   "outputs": [],
   "source": []
  }
 ],
 "metadata": {
  "kernelspec": {
   "display_name": "Python 3 (Intel® oneAPI 2023.2)",
   "language": "python",
   "name": "c009-intel_distribution_of_python_3_oneapi-beta05-python"
  },
  "language_info": {
   "codemirror_mode": {
    "name": "ipython",
    "version": 3
   },
   "file_extension": ".py",
   "mimetype": "text/x-python",
   "name": "python",
   "nbconvert_exporter": "python",
   "pygments_lexer": "ipython3",
   "version": "3.9.16"
  }
 },
 "nbformat": 4,
 "nbformat_minor": 5
}
